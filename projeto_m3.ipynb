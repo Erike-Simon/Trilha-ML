{
  "nbformat": 4,
  "nbformat_minor": 0,
  "metadata": {
    "colab": {
      "provenance": [],
      "authorship_tag": "ABX9TyNp6SreGekUIktre879IqGr",
      "include_colab_link": true
    },
    "kernelspec": {
      "name": "python3",
      "display_name": "Python 3"
    },
    "language_info": {
      "name": "python"
    }
  },
  "cells": [
    {
      "cell_type": "markdown",
      "metadata": {
        "id": "view-in-github",
        "colab_type": "text"
      },
      "source": [
        "<a href=\"https://colab.research.google.com/github/Erike-Simon/Trilha-ML/blob/main/projeto_m3.ipynb\" target=\"_parent\"><img src=\"https://colab.research.google.com/assets/colab-badge.svg\" alt=\"Open In Colab\"/></a>"
      ]
    },
    {
      "cell_type": "markdown",
      "source": [
        "### Convertendo imagem colorida para níveis de cinza"
      ],
      "metadata": {
        "id": "HfI__SNMwy72"
      }
    },
    {
      "cell_type": "code",
      "execution_count": null,
      "metadata": {
        "id": "t6iBJq7NsYUh"
      },
      "outputs": [],
      "source": [
        "from PIL import Image\n",
        "import numpy as np\n",
        "\n",
        "# abrir a imagem\n",
        "img = Image.open(\"onca-pintada.jpg\")\n",
        "\n",
        "# converter para matriz NumPy\n",
        "img_array = np.array(img)\n",
        "\n",
        "# criar uma matriz de zeros do mesmo tamanho da imagem, mas com apenas um canal\n",
        "img_cinza = np.zeros((img_array.shape[0], img_array.shape[1]), dtype=np.uint8)\n",
        "\n",
        "# percorrer cada pixel da imagem\n",
        "for i in range(img_array.shape[0]):\n",
        "    for j in range(img_array.shape[1]):\n",
        "        # aplicando a fórmula de luminosidade em cada pixel da imagem\n",
        "        r, g, b = img_array[i,j]\n",
        "        y = 0.299*r + 0.587*g + 0.114*b\n",
        "        # atribuindo o valor de cinza à matriz de escala de cinza\n",
        "        img_cinza[i,j] = y.astype(np.uint8)\n",
        "\n",
        "# converter a matriz de escala de cinza de volta para uma imagem e salvar\n",
        "img_cinza = Image.fromarray(img_cinza)\n",
        "img_cinza.save(\"imagem_cinza.jpg\")"
      ]
    },
    {
      "cell_type": "markdown",
      "source": [
        "### Convertendo imagem colorida para binarizada"
      ],
      "metadata": {
        "id": "p5u-ONdJyPnb"
      }
    },
    {
      "cell_type": "code",
      "source": [
        "# Carrega a imagem original\n",
        "img = Image.open(\"onca-pintada.jpg\")\n",
        "\n",
        "# Converte a imagem para escala de cinza\n",
        "img_array = np.array(img)\n",
        "img_cinza = np.dot(img_array[...,:3], [0.2989, 0.5870, 0.1140])\n",
        "\n",
        "# Aplica a binarização com um limiar fixo de 127\n",
        "img_binarizada = np.where(img_cinza >= 127, 255, 0)\n",
        "\n",
        "# Cria uma nova imagem a partir da matriz binarizada e salva em um arquivo\n",
        "img_final = Image.fromarray(img_binarizada.astype(np.uint8))\n",
        "img_final.save(\"imagem_binarizada.jpg\")"
      ],
      "metadata": {
        "id": "X5tW93R1yUUK"
      },
      "execution_count": null,
      "outputs": []
    }
  ]
}